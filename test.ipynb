{
 "cells": [
  {
   "cell_type": "code",
   "execution_count": 2,
   "metadata": {},
   "outputs": [
    {
     "name": "stdout",
     "output_type": "stream",
     "text": [
      "WARNING:tensorflow:From c:\\Users\\강민지\\AppData\\Local\\Programs\\Python\\Python311\\Lib\\site-packages\\keras\\src\\losses.py:2976: The name tf.losses.sparse_softmax_cross_entropy is deprecated. Please use tf.compat.v1.losses.sparse_softmax_cross_entropy instead.\n",
      "\n"
     ]
    }
   ],
   "source": [
    "import json\n",
    "import numpy as np\n",
    "import pandas as pd\n",
    "import tensorflow as tf\n",
    "from sklearn.model_selection import train_test_split"
   ]
  },
  {
   "cell_type": "code",
   "execution_count": 3,
   "metadata": {},
   "outputs": [
    {
     "name": "stdout",
     "output_type": "stream",
     "text": [
      "[{'대학명': '목포대학교', '학과명': '융합소프트웨어학과', '계열': '자연', '지역': '전남', '전형 유형': '교과', '최저 적용 유무': None, '최초 지원 결과': '불', '최종 지원 결과': '합', '학생부 교과(평균등급)-전과목': '4.95', '학생부 교과(평균등급)-국영수사': '5.08', '학생부 교과(평균등급)-국영수과': '5.06', '국영수탐-백분위': '175.5', '국영수탐-등급': '4.5'}, {'대학명': '서울대학교', '학과명': '컴퓨터공학과', '계열': '자연', '지역': '서울', '전형 유형': '교과', '최저 적용 유무': None, '최초 지원 결과': '합', '최종 지원 결과': '합', '학생부 교과(평균등급)-전과목': '1.2', '학생부 교과(평균등급)-국영수사': '1.3', '학생부 교과(평균등급)-국영수과': '1.1', '국영수탐-백분위': '230', '국영수탐-등급': '1.2'}, {'대학명': '한양대학교', '학과명': '경영학과', '계열': '사회', '지역': '서울', '전형 유형': '교과', '최저 적용 유무': 'O', '최초 지원 결과': '불', '최종 지원 결과': '불', '학생부 교과(평균등급)-전과목': '3.92', '학생부 교과(평균등급)-국영수사': '4.25', '학생부 교과(평균등급)-국영수과': '4.08', '국영수탐-백분위': '140.5', '국영수탐-등급': '3.2'}, {'대학명': '부산대학교', '학과명': '화학과', '계열': '자연', '지역': '부산', '전형 유형': '논술', '최저 적용 유무': None, '최초 지원 결과': '합', '최종 지원 결과': '불', '학생부 교과(평균등급)-전과목': None, '학생부 교과(평균등급)-국영수사': '3.0', '학생부 교과(평균등급)-국영수과': None, '국영수탐-백분위': None, '국영수탐-등급': '2.5'}, {'대학명': '충남대학교', '학과명': '생물학과', '계열': '자연', '지역': '충남', '전형 유형': '특별', '최저 적용 유무': None, '최초 지원 결과': '불', '최종 지원 결과': '불', '학생부 교과(평균등급)-전과목': '4.67', '학생부 교과(평균등급)-국영수사': '5.01', '학생부 교과(평균등급)-국영수과': '4.93', '국영수탐-백분위': '170.2', '국영수탐-등급': '4.4'}]\n"
     ]
    }
   ],
   "source": [
    "with open('json/2019_pass_or_fail_example.json', encoding='UTF8') as file:\n",
    "    data = json.load(file)\n",
    "    \n",
    "    json_test = data['info']\n",
    "    print(json_test)"
   ]
  },
  {
   "cell_type": "code",
   "execution_count": 4,
   "metadata": {},
   "outputs": [
    {
     "name": "stdout",
     "output_type": "stream",
     "text": [
      "info\n",
      "\n",
      "{'대학명': '목포대학교', '학과명': '융합소프트웨어학과', '계열': '자연', '지역': '전남', '전형 유형': '교과', '최저 적용 유무': None, '최초 지원 결과': '불', '최종 지원 결과': '합', '학생부 교과(평균등급)-전과목': '4.95', '학생부 교과(평균등급)-국영수사': '5.08', '학생부 교과(평균등급)-국영수과': '5.06', '국영수탐-백분위': '175.5', '국영수탐-등급': '4.5'}\n",
      "{'대학명': '서울대학교', '학과명': '컴퓨터공학과', '계열': '자연', '지역': '서울', '전형 유형': '교과', '최저 적용 유무': None, '최초 지원 결과': '합', '최종 지원 결과': '합', '학생부 교과(평균등급)-전과목': '1.2', '학생부 교과(평균등급)-국영수사': '1.3', '학생부 교과(평균등급)-국영수과': '1.1', '국영수탐-백분위': '230', '국영수탐-등급': '1.2'}\n",
      "{'대학명': '한양대학교', '학과명': '경영학과', '계열': '사회', '지역': '서울', '전형 유형': '교과', '최저 적용 유무': 'O', '최초 지원 결과': '불', '최종 지원 결과': '불', '학생부 교과(평균등급)-전과목': '3.92', '학생부 교과(평균등급)-국영수사': '4.25', '학생부 교과(평균등급)-국영수과': '4.08', '국영수탐-백분위': '140.5', '국영수탐-등급': '3.2'}\n",
      "{'대학명': '부산대학교', '학과명': '화학과', '계열': '자연', '지역': '부산', '전형 유형': '논술', '최저 적용 유무': None, '최초 지원 결과': '합', '최종 지원 결과': '불', '학생부 교과(평균등급)-전과목': None, '학생부 교과(평균등급)-국영수사': '3.0', '학생부 교과(평균등급)-국영수과': None, '국영수탐-백분위': None, '국영수탐-등급': '2.5'}\n",
      "{'대학명': '충남대학교', '학과명': '생물학과', '계열': '자연', '지역': '충남', '전형 유형': '특별', '최저 적용 유무': None, '최초 지원 결과': '불', '최종 지원 결과': '불', '학생부 교과(평균등급)-전과목': '4.67', '학생부 교과(평균등급)-국영수사': '5.01', '학생부 교과(평균등급)-국영수과': '4.93', '국영수탐-백분위': '170.2', '국영수탐-등급': '4.4'}\n"
     ]
    }
   ],
   "source": [
    "with open('json/2019_pass_or_fail_example.json', encoding='UTF8') as file:\n",
    "    data = json.load(file)\n",
    "    \n",
    "    for i in data:\n",
    "        print(i)\n",
    "        \n",
    "    print()\n",
    "     \n",
    "    print(json_test[0])\n",
    "    print(json_test[1])\n",
    "    print(json_test[2])\n",
    "    print(json_test[3])\n",
    "    print(json_test[4])"
   ]
  },
  {
   "cell_type": "code",
   "execution_count": 5,
   "metadata": {},
   "outputs": [
    {
     "name": "stdout",
     "output_type": "stream",
     "text": [
      "목포대학교\n",
      "서울대학교\n",
      "한양대학교\n",
      "부산대학교\n",
      "충남대학교\n"
     ]
    }
   ],
   "source": [
    "with open('json/2019_pass_or_fail_example.json', encoding='UTF8') as file:\n",
    "    data = json.load(file)\n",
    "    \n",
    "    json_test = data['info']\n",
    "    for i in json_test:\n",
    "        print(i['대학명'])"
   ]
  },
  {
   "cell_type": "markdown",
   "metadata": {},
   "source": [
    "gpascore csv -> json 데이터 테스트"
   ]
  },
  {
   "cell_type": "code",
   "execution_count": 6,
   "metadata": {},
   "outputs": [
    {
     "name": "stdout",
     "output_type": "stream",
     "text": [
      "[{'admit': 0, 'gre': 380, 'gpa': 3.21, 'rank': 3}, {'admit': 1, 'gre': 660, 'gpa': 3.67, 'rank': 3}, {'admit': 1, 'gre': 800, 'gpa': 4, 'rank': 1}, {'admit': 1, 'gre': 640, 'gpa': 3.19, 'rank': 4}, {'admit': 0, 'gre': 520, 'gpa': 2.33, 'rank': 4}, {'admit': 1, 'gre': 760, 'gpa': 3, 'rank': 2}, {'admit': 1, 'gre': 560, 'gpa': 2.98, 'rank': 1}, {'admit': 0, 'gre': 400, 'gpa': 3.08, 'rank': 2}, {'admit': 1, 'gre': 540, 'gpa': 3.39, 'rank': 3}, {'admit': 0, 'gre': 710, 'gpa': 3.66, 'rank': 4}, {'admit': 0, 'gre': 450, 'gpa': 3.25, 'rank': 4}, {'admit': 1, 'gre': 760, 'gpa': 3.76, 'rank': 2}, {'admit': 1, 'gre': 710, 'gpa': 3.82, 'rank': 3}, {'admit': 0, 'gre': 450, 'gpa': 3.25, 'rank': 4}, {'admit': 1, 'gre': 760, 'gpa': 3.76, 'rank': 2}, {'admit': 1, 'gre': 710, 'gpa': 3.82, 'rank': 3}, {'admit': 0, 'gre': 450, 'gpa': 3.25, 'rank': 4}, {'admit': 1, 'gre': 760, 'gpa': 3.76, 'rank': 2}, {'admit': 1, 'gre': 710, 'gpa': 3.82, 'rank': 3}, {'admit': 0, 'gre': 450, 'gpa': 3.25, 'rank': 4}, {'admit': 1, 'gre': 760, 'gpa': 3.76, 'rank': 2}, {'admit': 1, 'gre': 710, 'gpa': 3.82, 'rank': 3}]\n",
      "\n",
      "{'대학명': '목포대학교', '학과명': '융합소프트웨어학과', '계열': '자연', '지역': '전남', '전형 유형': '교과', '최저 적용 유무': None, '최초 지원 결과': '불', '최종 지원 결과': '합', '학생부 교과(평균등급)-전과목': '4.95', '학생부 교과(평균등급)-국영수사': '5.08', '학생부 교과(평균등급)-국영수과': '5.06', '국영수탐-백분위': '175.5', '국영수탐-등급': '4.5'}\n",
      "{'대학명': '서울대학교', '학과명': '컴퓨터공학과', '계열': '자연', '지역': '서울', '전형 유형': '교과', '최저 적용 유무': None, '최초 지원 결과': '합', '최종 지원 결과': '합', '학생부 교과(평균등급)-전과목': '1.2', '학생부 교과(평균등급)-국영수사': '1.3', '학생부 교과(평균등급)-국영수과': '1.1', '국영수탐-백분위': '230', '국영수탐-등급': '1.2'}\n",
      "{'대학명': '한양대학교', '학과명': '경영학과', '계열': '사회', '지역': '서울', '전형 유형': '교과', '최저 적용 유무': 'O', '최초 지원 결과': '불', '최종 지원 결과': '불', '학생부 교과(평균등급)-전과목': '3.92', '학생부 교과(평균등급)-국영수사': '4.25', '학생부 교과(평균등급)-국영수과': '4.08', '국영수탐-백분위': '140.5', '국영수탐-등급': '3.2'}\n",
      "{'대학명': '부산대학교', '학과명': '화학과', '계열': '자연', '지역': '부산', '전형 유형': '논술', '최저 적용 유무': None, '최초 지원 결과': '합', '최종 지원 결과': '불', '학생부 교과(평균등급)-전과목': None, '학생부 교과(평균등급)-국영수사': '3.0', '학생부 교과(평균등급)-국영수과': None, '국영수탐-백분위': None, '국영수탐-등급': '2.5'}\n",
      "{'대학명': '충남대학교', '학과명': '생물학과', '계열': '자연', '지역': '충남', '전형 유형': '특별', '최저 적용 유무': None, '최초 지원 결과': '불', '최종 지원 결과': '불', '학생부 교과(평균등급)-전과목': '4.67', '학생부 교과(평균등급)-국영수사': '5.01', '학생부 교과(평균등급)-국영수과': '4.93', '국영수탐-백분위': '170.2', '국영수탐-등급': '4.4'}\n"
     ]
    }
   ],
   "source": [
    "with open('json/gpadata_test.json', encoding='UTF8') as file:\n",
    "    datas = json.load(file)\n",
    "    \n",
    "    print(datas)\n",
    "    print()\n",
    "    print(json_test[0])\n",
    "    print(json_test[1])\n",
    "    print(json_test[2])\n",
    "    print(json_test[3])\n",
    "    print(json_test[4])"
   ]
  },
  {
   "cell_type": "code",
   "execution_count": 7,
   "metadata": {},
   "outputs": [],
   "source": [
    "x = np.array([[data['gre'], data['gpa'], data['rank']] for data in datas])\n",
    "y = np.array([entry['admit'] for entry in datas])"
   ]
  },
  {
   "cell_type": "code",
   "execution_count": 8,
   "metadata": {},
   "outputs": [
    {
     "name": "stdout",
     "output_type": "stream",
     "text": [
      "[[380.     3.21   3.  ]\n",
      " [660.     3.67   3.  ]\n",
      " [800.     4.     1.  ]\n",
      " [640.     3.19   4.  ]\n",
      " [520.     2.33   4.  ]\n",
      " [760.     3.     2.  ]\n",
      " [560.     2.98   1.  ]\n",
      " [400.     3.08   2.  ]\n",
      " [540.     3.39   3.  ]\n",
      " [710.     3.66   4.  ]\n",
      " [450.     3.25   4.  ]\n",
      " [760.     3.76   2.  ]\n",
      " [710.     3.82   3.  ]\n",
      " [450.     3.25   4.  ]\n",
      " [760.     3.76   2.  ]\n",
      " [710.     3.82   3.  ]\n",
      " [450.     3.25   4.  ]\n",
      " [760.     3.76   2.  ]\n",
      " [710.     3.82   3.  ]\n",
      " [450.     3.25   4.  ]\n",
      " [760.     3.76   2.  ]\n",
      " [710.     3.82   3.  ]]\n",
      "[0 1 1 1 0 1 1 0 1 0 0 1 1 0 1 1 0 1 1 0 1 1]\n"
     ]
    }
   ],
   "source": [
    "print(x)\n",
    "print(y)"
   ]
  },
  {
   "cell_type": "code",
   "execution_count": 17,
   "metadata": {},
   "outputs": [
    {
     "name": "stdout",
     "output_type": "stream",
     "text": [
      "Epoch 1/100\n",
      "1/1 [==============================] - 0s 372ms/step - loss: 0.6905 - accuracy: 0.6364\n",
      "Epoch 2/100\n",
      "1/1 [==============================] - 0s 3ms/step - loss: 0.6610 - accuracy: 0.6364\n",
      "Epoch 3/100\n",
      "1/1 [==============================] - 0s 2ms/step - loss: 0.6755 - accuracy: 0.6364\n",
      "Epoch 4/100\n",
      "1/1 [==============================] - 0s 3ms/step - loss: 0.6628 - accuracy: 0.6364\n",
      "Epoch 5/100\n",
      "1/1 [==============================] - 0s 3ms/step - loss: 0.6489 - accuracy: 0.6364\n",
      "Epoch 6/100\n",
      "1/1 [==============================] - 0s 3ms/step - loss: 0.6539 - accuracy: 0.6364\n",
      "Epoch 7/100\n",
      "1/1 [==============================] - 0s 3ms/step - loss: 0.6591 - accuracy: 0.6364\n",
      "Epoch 8/100\n",
      "1/1 [==============================] - 0s 2ms/step - loss: 0.6520 - accuracy: 0.6364\n",
      "Epoch 9/100\n",
      "1/1 [==============================] - 0s 2ms/step - loss: 0.6428 - accuracy: 0.6364\n",
      "Epoch 10/100\n",
      "1/1 [==============================] - 0s 2ms/step - loss: 0.6395 - accuracy: 0.6364\n",
      "Epoch 11/100\n",
      "1/1 [==============================] - 0s 4ms/step - loss: 0.6386 - accuracy: 0.6364\n",
      "Epoch 12/100\n",
      "1/1 [==============================] - 0s 2ms/step - loss: 0.6355 - accuracy: 0.6364\n",
      "Epoch 13/100\n",
      "1/1 [==============================] - 0s 3ms/step - loss: 0.6335 - accuracy: 0.6364\n",
      "Epoch 14/100\n",
      "1/1 [==============================] - 0s 2ms/step - loss: 0.6313 - accuracy: 0.6364\n",
      "Epoch 15/100\n",
      "1/1 [==============================] - 0s 2ms/step - loss: 0.6264 - accuracy: 0.6364\n",
      "Epoch 16/100\n",
      "1/1 [==============================] - 0s 4ms/step - loss: 0.6198 - accuracy: 0.6364\n",
      "Epoch 17/100\n",
      "1/1 [==============================] - 0s 3ms/step - loss: 0.6141 - accuracy: 0.6364\n",
      "Epoch 18/100\n",
      "1/1 [==============================] - 0s 2ms/step - loss: 0.6116 - accuracy: 0.6364\n",
      "Epoch 19/100\n",
      "1/1 [==============================] - 0s 2ms/step - loss: 0.6103 - accuracy: 0.6364\n",
      "Epoch 20/100\n",
      "1/1 [==============================] - 0s 2ms/step - loss: 0.6072 - accuracy: 0.6364\n",
      "Epoch 21/100\n",
      "1/1 [==============================] - 0s 9ms/step - loss: 0.6010 - accuracy: 0.6364\n",
      "Epoch 22/100\n",
      "1/1 [==============================] - 0s 7ms/step - loss: 0.5930 - accuracy: 0.6364\n",
      "Epoch 23/100\n",
      "1/1 [==============================] - 0s 3ms/step - loss: 0.5876 - accuracy: 0.6364\n",
      "Epoch 24/100\n",
      "1/1 [==============================] - 0s 5ms/step - loss: 0.5856 - accuracy: 0.6364\n",
      "Epoch 25/100\n",
      "1/1 [==============================] - 0s 2ms/step - loss: 0.5798 - accuracy: 0.6364\n",
      "Epoch 26/100\n",
      "1/1 [==============================] - 0s 3ms/step - loss: 0.5728 - accuracy: 0.6364\n",
      "Epoch 27/100\n",
      "1/1 [==============================] - 0s 3ms/step - loss: 0.5677 - accuracy: 0.6364\n",
      "Epoch 28/100\n",
      "1/1 [==============================] - 0s 2ms/step - loss: 0.5613 - accuracy: 0.6364\n",
      "Epoch 29/100\n",
      "1/1 [==============================] - 0s 2ms/step - loss: 0.5568 - accuracy: 0.6364\n",
      "Epoch 30/100\n",
      "1/1 [==============================] - 0s 4ms/step - loss: 0.5518 - accuracy: 0.6364\n",
      "Epoch 31/100\n",
      "1/1 [==============================] - 0s 2ms/step - loss: 0.5434 - accuracy: 0.6364\n",
      "Epoch 32/100\n",
      "1/1 [==============================] - 0s 3ms/step - loss: 0.5382 - accuracy: 0.6364\n",
      "Epoch 33/100\n",
      "1/1 [==============================] - 0s 2ms/step - loss: 0.5332 - accuracy: 0.6364\n",
      "Epoch 34/100\n",
      "1/1 [==============================] - 0s 2ms/step - loss: 0.5275 - accuracy: 0.6364\n",
      "Epoch 35/100\n",
      "1/1 [==============================] - 0s 3ms/step - loss: 0.5210 - accuracy: 0.8636\n",
      "Epoch 36/100\n",
      "1/1 [==============================] - 0s 2ms/step - loss: 0.5148 - accuracy: 0.8636\n",
      "Epoch 37/100\n",
      "1/1 [==============================] - 0s 2ms/step - loss: 0.5104 - accuracy: 0.8636\n",
      "Epoch 38/100\n",
      "1/1 [==============================] - 0s 2ms/step - loss: 0.5048 - accuracy: 0.8636\n",
      "Epoch 39/100\n",
      "1/1 [==============================] - 0s 2ms/step - loss: 0.4984 - accuracy: 0.8636\n",
      "Epoch 40/100\n",
      "1/1 [==============================] - 0s 3ms/step - loss: 0.4929 - accuracy: 0.8636\n",
      "Epoch 41/100\n",
      "1/1 [==============================] - 0s 3ms/step - loss: 0.4884 - accuracy: 0.8636\n",
      "Epoch 42/100\n",
      "1/1 [==============================] - 0s 2ms/step - loss: 0.4832 - accuracy: 0.8636\n",
      "Epoch 43/100\n",
      "1/1 [==============================] - 0s 2ms/step - loss: 0.4774 - accuracy: 0.8636\n",
      "Epoch 44/100\n",
      "1/1 [==============================] - 0s 2ms/step - loss: 0.4728 - accuracy: 0.8636\n",
      "Epoch 45/100\n",
      "1/1 [==============================] - 0s 4ms/step - loss: 0.4682 - accuracy: 0.8636\n",
      "Epoch 46/100\n",
      "1/1 [==============================] - 0s 2ms/step - loss: 0.4629 - accuracy: 0.8636\n",
      "Epoch 47/100\n",
      "1/1 [==============================] - 0s 3ms/step - loss: 0.4580 - accuracy: 0.8636\n",
      "Epoch 48/100\n",
      "1/1 [==============================] - 0s 3ms/step - loss: 0.4534 - accuracy: 0.8636\n",
      "Epoch 49/100\n",
      "1/1 [==============================] - 0s 3ms/step - loss: 0.4487 - accuracy: 0.8636\n",
      "Epoch 50/100\n",
      "1/1 [==============================] - 0s 3ms/step - loss: 0.4435 - accuracy: 0.8636\n",
      "Epoch 51/100\n",
      "1/1 [==============================] - 0s 3ms/step - loss: 0.4387 - accuracy: 0.8636\n",
      "Epoch 52/100\n",
      "1/1 [==============================] - 0s 2ms/step - loss: 0.4341 - accuracy: 0.8636\n",
      "Epoch 53/100\n",
      "1/1 [==============================] - 0s 3ms/step - loss: 0.4288 - accuracy: 0.8636\n",
      "Epoch 54/100\n",
      "1/1 [==============================] - 0s 3ms/step - loss: 0.4239 - accuracy: 0.8636\n",
      "Epoch 55/100\n",
      "1/1 [==============================] - 0s 3ms/step - loss: 0.4193 - accuracy: 0.8636\n",
      "Epoch 56/100\n",
      "1/1 [==============================] - 0s 3ms/step - loss: 0.4143 - accuracy: 0.8636\n",
      "Epoch 57/100\n",
      "1/1 [==============================] - 0s 2ms/step - loss: 0.4092 - accuracy: 0.8636\n",
      "Epoch 58/100\n",
      "1/1 [==============================] - 0s 3ms/step - loss: 0.4047 - accuracy: 0.8636\n",
      "Epoch 59/100\n",
      "1/1 [==============================] - 0s 3ms/step - loss: 0.4000 - accuracy: 0.8636\n",
      "Epoch 60/100\n",
      "1/1 [==============================] - 0s 2ms/step - loss: 0.3952 - accuracy: 0.8636\n",
      "Epoch 61/100\n",
      "1/1 [==============================] - 0s 3ms/step - loss: 0.3907 - accuracy: 0.9091\n",
      "Epoch 62/100\n",
      "1/1 [==============================] - 0s 3ms/step - loss: 0.3861 - accuracy: 0.8636\n",
      "Epoch 63/100\n",
      "1/1 [==============================] - 0s 3ms/step - loss: 0.3815 - accuracy: 0.9091\n",
      "Epoch 64/100\n",
      "1/1 [==============================] - 0s 3ms/step - loss: 0.3771 - accuracy: 0.9091\n",
      "Epoch 65/100\n",
      "1/1 [==============================] - 0s 3ms/step - loss: 0.3727 - accuracy: 0.9091\n",
      "Epoch 66/100\n",
      "1/1 [==============================] - 0s 4ms/step - loss: 0.3683 - accuracy: 0.9091\n",
      "Epoch 67/100\n",
      "1/1 [==============================] - 0s 3ms/step - loss: 0.3640 - accuracy: 0.9545\n",
      "Epoch 68/100\n",
      "1/1 [==============================] - 0s 2ms/step - loss: 0.3597 - accuracy: 0.9091\n",
      "Epoch 69/100\n",
      "1/1 [==============================] - 0s 3ms/step - loss: 0.3555 - accuracy: 0.9545\n",
      "Epoch 70/100\n",
      "1/1 [==============================] - 0s 4ms/step - loss: 0.3514 - accuracy: 0.9091\n",
      "Epoch 71/100\n",
      "1/1 [==============================] - 0s 2ms/step - loss: 0.3483 - accuracy: 0.9545\n",
      "Epoch 72/100\n",
      "1/1 [==============================] - 0s 3ms/step - loss: 0.3493 - accuracy: 0.8636\n",
      "Epoch 73/100\n",
      "1/1 [==============================] - 0s 3ms/step - loss: 0.3532 - accuracy: 0.9091\n",
      "Epoch 74/100\n",
      "1/1 [==============================] - 0s 3ms/step - loss: 0.3471 - accuracy: 0.8636\n",
      "Epoch 75/100\n",
      "1/1 [==============================] - 0s 3ms/step - loss: 0.3326 - accuracy: 0.9091\n",
      "Epoch 76/100\n",
      "1/1 [==============================] - 0s 2ms/step - loss: 0.3442 - accuracy: 0.8636\n",
      "Epoch 77/100\n",
      "1/1 [==============================] - 0s 2ms/step - loss: 0.3266 - accuracy: 0.9091\n",
      "Epoch 78/100\n",
      "1/1 [==============================] - 0s 3ms/step - loss: 0.3298 - accuracy: 0.8636\n",
      "Epoch 79/100\n",
      "1/1 [==============================] - 0s 4ms/step - loss: 0.3195 - accuracy: 0.9091\n",
      "Epoch 80/100\n",
      "1/1 [==============================] - 0s 2ms/step - loss: 0.3189 - accuracy: 0.9091\n",
      "Epoch 81/100\n",
      "1/1 [==============================] - 0s 3ms/step - loss: 0.3146 - accuracy: 0.9091\n",
      "Epoch 82/100\n",
      "1/1 [==============================] - 0s 2ms/step - loss: 0.3101 - accuracy: 0.9091\n",
      "Epoch 83/100\n",
      "1/1 [==============================] - 0s 3ms/step - loss: 0.3078 - accuracy: 0.9091\n",
      "Epoch 84/100\n",
      "1/1 [==============================] - 0s 4ms/step - loss: 0.3009 - accuracy: 0.9545\n",
      "Epoch 85/100\n",
      "1/1 [==============================] - 0s 2ms/step - loss: 0.3013 - accuracy: 0.9091\n",
      "Epoch 86/100\n",
      "1/1 [==============================] - 0s 3ms/step - loss: 0.2940 - accuracy: 0.9545\n",
      "Epoch 87/100\n",
      "1/1 [==============================] - 0s 3ms/step - loss: 0.2953 - accuracy: 0.9091\n",
      "Epoch 88/100\n",
      "1/1 [==============================] - 0s 3ms/step - loss: 0.2871 - accuracy: 0.9545\n",
      "Epoch 89/100\n",
      "1/1 [==============================] - 0s 3ms/step - loss: 0.2882 - accuracy: 0.9545\n",
      "Epoch 90/100\n",
      "1/1 [==============================] - 0s 2ms/step - loss: 0.2813 - accuracy: 0.9545\n",
      "Epoch 91/100\n",
      "1/1 [==============================] - 0s 1ms/step - loss: 0.2818 - accuracy: 0.9091\n",
      "Epoch 92/100\n",
      "1/1 [==============================] - 0s 4ms/step - loss: 0.2764 - accuracy: 0.9545\n",
      "Epoch 93/100\n",
      "1/1 [==============================] - 0s 2ms/step - loss: 0.2750 - accuracy: 0.9545\n",
      "Epoch 94/100\n",
      "1/1 [==============================] - 0s 2ms/step - loss: 0.2715 - accuracy: 0.9091\n",
      "Epoch 95/100\n",
      "1/1 [==============================] - 0s 3ms/step - loss: 0.2686 - accuracy: 0.9545\n",
      "Epoch 96/100\n",
      "1/1 [==============================] - 0s 3ms/step - loss: 0.2668 - accuracy: 0.9545\n",
      "Epoch 97/100\n",
      "1/1 [==============================] - 0s 3ms/step - loss: 0.2629 - accuracy: 0.9545\n",
      "Epoch 98/100\n",
      "1/1 [==============================] - 0s 3ms/step - loss: 0.2621 - accuracy: 0.9091\n",
      "Epoch 99/100\n",
      "1/1 [==============================] - 0s 2ms/step - loss: 0.2579 - accuracy: 0.9545\n",
      "Epoch 100/100\n",
      "1/1 [==============================] - 0s 3ms/step - loss: 0.2569 - accuracy: 0.9545\n"
     ]
    },
    {
     "data": {
      "text/plain": [
       "<keras.src.callbacks.History at 0x1a0f0be7150>"
      ]
     },
     "execution_count": 17,
     "metadata": {},
     "output_type": "execute_result"
    }
   ],
   "source": [
    "model = tf.keras.models.Sequential([\n",
    "    # 숫자 같은 경우 계속 돌려 보면서 정확도가 높은 방향으로 모델을 튜닝시켜 주는 작업이 필요함\n",
    "    tf.keras.layers.Dense(64, activation='tanh'),\n",
    "    tf.keras.layers.Dense(128, activation='tanh'),\n",
    "    # 마지막 레이어는 예측결과(sigmoid -> 0~1확률)\n",
    "    tf.keras.layers.Dense(1, activation='sigmoid'),\n",
    "])\n",
    "\n",
    "model.compile(optimizer='adam', loss='binary_crossentropy', metrics=['accuracy'])\n",
    "\n",
    "# 학습 데이터, 실제 정답\n",
    "model.fit(np.array(x), np.array(y), epochs=100)"
   ]
  },
  {
   "cell_type": "code",
   "execution_count": 10,
   "metadata": {},
   "outputs": [
    {
     "name": "stdout",
     "output_type": "stream",
     "text": [
      "1/1 [==============================] - 0s 64ms/step\n",
      "[[0.93498504]\n",
      " [0.73538303]]\n"
     ]
    }
   ],
   "source": [
    "# 예측\n",
    "predict = model.predict([ [750, 3.70, 3], [400, 2.2, 1] ])\n",
    "print(predict)"
   ]
  },
  {
   "cell_type": "code",
   "execution_count": 11,
   "metadata": {},
   "outputs": [],
   "source": [
    "with open('json/string_test.json', encoding='UTF8') as file:\n",
    "    dataset = json.load(file)"
   ]
  },
  {
   "cell_type": "code",
   "execution_count": 12,
   "metadata": {},
   "outputs": [],
   "source": [
    "# 학습 데이터 준비\n",
    "# 최종지원결과와 나머지 데이터 분리\n",
    "\n",
    "string_features = []\n",
    "\n",
    "# 숫자 데이터를 numpy 배열로 변환\n",
    "numeric_data = np.array([[data['전과목(평균)'], data['국영수사(평균)'], data['국영수과(평균)'], data['국영수탐(백분위)'], data['국영수탐(등급)']] for data in dataset])\n",
    "\n",
    "# 문자열 데이터를 numpy 배열로 변환 (hashing trick 적용) --> 수정 필요\n",
    "string_data = np.array([[data['지역'], data['계열'], data['대학명'], data['학과명'], data['전형유형'], data['전형명'], data['최저적용유무'], data['최초지원결과']] for data in dataset])\n",
    "\n",
    "# 결과값을 정수로 매핑 (\"최종지원결과\"를 1 또는 0으로 변환)\n",
    "result = np.array([1 if data['최종지원결과'] == \"합\" else 0 for data in dataset])"
   ]
  }
 ],
 "metadata": {
  "kernelspec": {
   "display_name": "Python 3",
   "language": "python",
   "name": "python3"
  },
  "language_info": {
   "codemirror_mode": {
    "name": "ipython",
    "version": 3
   },
   "file_extension": ".py",
   "mimetype": "text/x-python",
   "name": "python",
   "nbconvert_exporter": "python",
   "pygments_lexer": "ipython3",
   "version": "3.11.6"
  }
 },
 "nbformat": 4,
 "nbformat_minor": 2
}
