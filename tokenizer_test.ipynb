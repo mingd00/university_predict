{
 "cells": [
  {
   "cell_type": "code",
   "execution_count": 1,
   "metadata": {},
   "outputs": [
    {
     "name": "stdout",
     "output_type": "stream",
     "text": [
      "WARNING:tensorflow:From c:\\Users\\강민지\\AppData\\Local\\Programs\\Python\\Python311\\Lib\\site-packages\\keras\\src\\losses.py:2976: The name tf.losses.sparse_softmax_cross_entropy is deprecated. Please use tf.compat.v1.losses.sparse_softmax_cross_entropy instead.\n",
      "\n"
     ]
    }
   ],
   "source": [
    "from sklearn.preprocessing import LabelEncoder\n",
    "from keras.models import Sequential\n",
    "from keras.layers import Dense\n",
    "from keras.callbacks import ModelCheckpoint, EarlyStopping\n",
    "from sklearn.model_selection import train_test_split, StratifiedKFold\n",
    "from keras.preprocessing.text import Tokenizer\n",
    "\n",
    "import json\n",
    "import numpy as np\n",
    "import pandas as pd\n",
    "import tensorflow as tf\n",
    "import os\n",
    "import matplotlib.pyplot as plt"
   ]
  },
  {
   "cell_type": "code",
   "execution_count": 2,
   "metadata": {},
   "outputs": [],
   "source": [
    "with open('json/2019_pass_or_fail.json', encoding='UTF8') as file:\n",
    "    dataset = json.load(file)"
   ]
  },
  {
   "cell_type": "code",
   "execution_count": 7,
   "metadata": {},
   "outputs": [
    {
     "name": "stdout",
     "output_type": "stream",
     "text": [
      "162000\n"
     ]
    }
   ],
   "source": [
    "\n",
    "# 데이터의 개수 반환\n",
    "count = len(dataset)\n",
    "print(count)"
   ]
  },
  {
   "cell_type": "code",
   "execution_count": 9,
   "metadata": {},
   "outputs": [],
   "source": [
    "# JSON 데이터를 pandas DataFrame으로 변환\n",
    "df = pd.DataFrame(dataset)\n",
    "\n",
    "# \"최저 지원 유무\" 열 삭제\n",
    "df_modify = df.drop(columns=['최저적용유무', '최초지원결과', '지역', '전형명', '계열'])\n",
    "\n",
    "# 빈 값이 있는 행 제거\n",
    "df_modify = df_modify.replace('', pd.NA).dropna()\n",
    "\n",
    "# 결과를 다시 JSON 형식으로 변환\n",
    "modified_data = df_modify.to_dict(orient='records')"
   ]
  },
  {
   "cell_type": "code",
   "execution_count": 10,
   "metadata": {},
   "outputs": [
    {
     "name": "stdout",
     "output_type": "stream",
     "text": [
      "130548\n"
     ]
    }
   ],
   "source": [
    "count = len(modified_data)\n",
    "print(count)"
   ]
  },
  {
   "cell_type": "code",
   "execution_count": 9,
   "metadata": {},
   "outputs": [
    {
     "name": "stdout",
     "output_type": "stream",
     "text": [
      "[['DGIST' '융복합대학(기초학부)' '종합']\n",
      " ['DGIST' '융복합대학(기초학부)' '종합']\n",
      " ['DGIST' '융복합대학(기초학부)' '종합']]\n",
      "['DGIST 융복합대학(기초학부) 종합', 'DGIST 융복합대학(기초학부) 종합', 'DGIST 융복합대학(기초학부) 종합']\n",
      "[[585, 586, 1], [585, 586, 1], [585, 586, 1], [585, 586, 1], [585, 586, 1]]\n"
     ]
    }
   ],
   "source": [
    "# 숫자로 변환하여 NumPy 배열 생성\n",
    "numeric_data = np.array([\n",
    "    [\n",
    "        data['전과목(평균)'],\n",
    "        data['국영수사(평균)'],\n",
    "        data['국영수과(평균)'],\n",
    "        data['국영수탐(백분위)'],\n",
    "        data['국영수탐(등급)']\n",
    "    ] \n",
    "    for data in modified_data\n",
    "])\n",
    "\n",
    "# 문자열 데이터를 numpy 배열로 변환 (hashing trick 적용) --> 수정 필요\n",
    "string_data = np.array([\n",
    "    [\n",
    "        data['대학명'],\n",
    "        data['학과명'],\n",
    "        data['전형유형'],\n",
    "    ]\n",
    "    for data in modified_data\n",
    "])\n",
    "\n",
    "print(string_data[0:3])\n",
    "\n",
    "# 각 행을 문자열로 합치기\n",
    "texts = [' '.join(row) for row in string_data]\n",
    "\n",
    "print(texts[0:3])\n",
    "\n",
    "# Tokenizer : 문자열 -> 숫자 데이터로 임베딩 \n",
    "tokenizer = Tokenizer(filters='')\n",
    "tokenizer.fit_on_texts(texts)\n",
    "encoded_texts = tokenizer.texts_to_sequences(texts)\n",
    "\n",
    "print(encoded_texts[0:5])\n",
    "\n",
    "# Tokenizer 설정 가져오기\n",
    "tokenizer_config = tokenizer.get_config()\n",
    "\n",
    "# 설정을 JSON 파일로 저장\n",
    "with open('tokenizer_config.json', 'w') as f:\n",
    "    json.dump(tokenizer_config, f)\n",
    "\n",
    "# 결과값(합격 or 불합격)\n",
    "result = np.array([data['최종지원결과'] for data in modified_data])"
   ]
  },
  {
   "cell_type": "code",
   "execution_count": 5,
   "metadata": {},
   "outputs": [
    {
     "name": "stdout",
     "output_type": "stream",
     "text": [
      "[['1.32' '1.31' '1.22' '252.5' '2.67']\n",
      " ['1.47' '1.51' '1.29' '281.5' '1.67']\n",
      " ['1.3' '1.3' '1.3' '225.5' '3.67']\n",
      " ['1.39' '1.44' '1.33' '224' '3.33']\n",
      " ['1.59' '1.41' '1.36' '263.5' '2.17']]\n",
      "[['DGIST' '융복합대학(기초학부)' '종합']\n",
      " ['DGIST' '융복합대학(기초학부)' '종합']\n",
      " ['DGIST' '융복합대학(기초학부)' '종합']\n",
      " ['DGIST' '융복합대학(기초학부)' '종합']\n",
      " ['DGIST' '융복합대학(기초학부)' '종합']]\n",
      "[['KAIST' '전학부' '종합']\n",
      " ['KAIST' '전학부' '종합']\n",
      " ['KAIST' '전학부' '종합']\n",
      " ['KAIST' '전학부' '종합']\n",
      " ['KAIST' '전학부' '종합']]\n",
      "[[585, 586, 1], [585, 586, 1], [585, 586, 1], [585, 586, 1], [585, 586, 1]]\n",
      "['합' '합' '합' '합' '불']\n"
     ]
    }
   ],
   "source": [
    "print(numeric_data[0:5])\n",
    "print(string_data[0:5])\n",
    "print(string_data[300:305])\n",
    "print(encoded_texts[0:5])\n",
    "print(result[0:5])"
   ]
  },
  {
   "cell_type": "code",
   "execution_count": 6,
   "metadata": {},
   "outputs": [
    {
     "name": "stdout",
     "output_type": "stream",
     "text": [
      "<class 'numpy.ndarray'>\n",
      "<class 'numpy.ndarray'>\n",
      "<class 'list'>\n"
     ]
    }
   ],
   "source": [
    "print(type(numeric_data))\n",
    "print(type(string_data))\n",
    "print(type(encoded_texts))"
   ]
  },
  {
   "cell_type": "code",
   "execution_count": 7,
   "metadata": {},
   "outputs": [
    {
     "name": "stdout",
     "output_type": "stream",
     "text": [
      "[[  1.32   1.31   1.22 252.5    2.67]\n",
      " [  1.47   1.51   1.29 281.5    1.67]]\n",
      "<class 'numpy.ndarray'>\n"
     ]
    }
   ],
   "source": [
    "# 숫자 데이터 float형으로 변환\n",
    "numeric_data = np.array(numeric_data).astype(float)\n",
    "print(numeric_data[0:2])\n",
    "print(type(numeric_data))"
   ]
  },
  {
   "cell_type": "code",
   "execution_count": 8,
   "metadata": {},
   "outputs": [
    {
     "name": "stdout",
     "output_type": "stream",
     "text": [
      "True\n"
     ]
    }
   ],
   "source": [
    "# 각 1차원 배열의 길이를 추출\n",
    "lengths = [len(arr) for arr in encoded_texts]\n",
    "\n",
    "# 모든 길이가 동일한지 확인\n",
    "are_lengths_equal = all(length == lengths[0] for length in lengths)\n",
    "print(are_lengths_equal)"
   ]
  },
  {
   "cell_type": "code",
   "execution_count": 9,
   "metadata": {},
   "outputs": [
    {
     "name": "stdout",
     "output_type": "stream",
     "text": [
      "set()\n"
     ]
    }
   ],
   "source": [
    "a = []\n",
    "for i in lengths:\n",
    "    if i!=3:\n",
    "        a.append(i)\n",
    "print(set(a))"
   ]
  },
  {
   "cell_type": "code",
   "execution_count": 10,
   "metadata": {},
   "outputs": [],
   "source": [
    "for i in range(len(lengths)):\n",
    "    if lengths[i]!=3:\n",
    "        print(lengths[i], string_data[i], encoded_texts[i])"
   ]
  },
  {
   "cell_type": "code",
   "execution_count": 11,
   "metadata": {},
   "outputs": [
    {
     "name": "stdout",
     "output_type": "stream",
     "text": [
      "[[585. 586.   1.]\n",
      " [585. 586.   1.]\n",
      " [585. 586.   1.]\n",
      " ...\n",
      " [ 19.  75.   1.]\n",
      " [ 19.  75.   4.]\n",
      " [ 19.  75.   4.]]\n"
     ]
    }
   ],
   "source": [
    "encoded_texts = np.array(encoded_texts).astype(float)\n",
    "print(encoded_texts)"
   ]
  },
  {
   "cell_type": "code",
   "execution_count": 12,
   "metadata": {},
   "outputs": [
    {
     "name": "stdout",
     "output_type": "stream",
     "text": [
      "[[585.   586.     1.     1.32   1.31   1.22 252.5    2.67]\n",
      " [585.   586.     1.     1.47   1.51   1.29 281.5    1.67]]\n",
      "[[585.   586.     1.     1.32   1.31   1.22 252.5    2.67]\n",
      " [585.   586.     1.     1.47   1.51   1.29 281.5    1.67]]\n",
      "[[200.   201.     1.     1.59   1.41   1.36 263.5    2.17]\n",
      " [200.   201.     1.     1.3    1.28   1.37 260.5    2.  ]]\n",
      "[1 1]\n"
     ]
    }
   ],
   "source": [
    "# 두 배열을 수평으로 결합\n",
    "combined_data = np.concatenate((encoded_texts, numeric_data), axis=1, )\n",
    "print(combined_data[0:2])\n",
    "\n",
    "# 2차원 배열의 각 행에 대해 문자열을 정수로 변환\n",
    "X = np.array(combined_data).astype(float)\n",
    "\n",
    "# y값 문자열에 대해 원-핫 인코딩\n",
    "y = np.array(result)\n",
    "e = LabelEncoder()\n",
    "e.fit(y)\n",
    "Y = e.transform(y)\n",
    "\n",
    "print(X[0:2])\n",
    "print(X[200:202])\n",
    "print(Y[0:2])"
   ]
  },
  {
   "cell_type": "code",
   "execution_count": 15,
   "metadata": {},
   "outputs": [
    {
     "name": "stdout",
     "output_type": "stream",
     "text": [
      "WARNING:tensorflow:From C:\\Users\\강민지\\AppData\\Local\\Programs\\Python\\Python311\\Lib\\site-packages\\keras\\src\\backend.py:873: The name tf.get_default_graph is deprecated. Please use tf.compat.v1.get_default_graph instead.\n",
      "\n",
      "WARNING:tensorflow:From C:\\Users\\강민지\\AppData\\Local\\Programs\\Python\\Python311\\Lib\\site-packages\\keras\\src\\optimizers\\__init__.py:309: The name tf.train.Optimizer is deprecated. Please use tf.compat.v1.train.Optimizer instead.\n",
      "\n",
      "Epoch 1/100\n",
      "WARNING:tensorflow:From C:\\Users\\강민지\\AppData\\Local\\Programs\\Python\\Python311\\Lib\\site-packages\\keras\\src\\utils\\tf_utils.py:492: The name tf.ragged.RaggedTensorValue is deprecated. Please use tf.compat.v1.ragged.RaggedTensorValue instead.\n",
      "\n",
      "WARNING:tensorflow:From C:\\Users\\강민지\\AppData\\Local\\Programs\\Python\\Python311\\Lib\\site-packages\\keras\\src\\engine\\base_layer_utils.py:384: The name tf.executing_eagerly_outside_functions is deprecated. Please use tf.compat.v1.executing_eagerly_outside_functions instead.\n",
      "\n",
      "1020/1020 [==============================] - 4s 2ms/step - loss: 0.7198 - accuracy: 0.8304\n",
      "Epoch 2/100\n",
      "1020/1020 [==============================] - 3s 2ms/step - loss: 0.4856 - accuracy: 0.8410\n",
      "Epoch 3/100\n",
      "1020/1020 [==============================] - 3s 3ms/step - loss: 0.4330 - accuracy: 0.8459\n",
      "Epoch 4/100\n",
      "1020/1020 [==============================] - 2s 2ms/step - loss: 0.4277 - accuracy: 0.8468\n",
      "Epoch 5/100\n",
      "1020/1020 [==============================] - 3s 3ms/step - loss: 0.4107 - accuracy: 0.8481\n",
      "Epoch 6/100\n",
      "1020/1020 [==============================] - 3s 3ms/step - loss: 0.3939 - accuracy: 0.8505\n",
      "Epoch 7/100\n",
      "1020/1020 [==============================] - 3s 3ms/step - loss: 0.3777 - accuracy: 0.8532\n",
      "Epoch 8/100\n",
      "1020/1020 [==============================] - 3s 3ms/step - loss: 0.3740 - accuracy: 0.8531\n",
      "Epoch 9/100\n",
      "1020/1020 [==============================] - 3s 3ms/step - loss: 0.3687 - accuracy: 0.8546\n",
      "Epoch 10/100\n",
      "1020/1020 [==============================] - 2s 2ms/step - loss: 0.3621 - accuracy: 0.8561\n",
      "Epoch 11/100\n",
      "1020/1020 [==============================] - 3s 2ms/step - loss: 0.3572 - accuracy: 0.8570\n",
      "Epoch 12/100\n",
      "1020/1020 [==============================] - 3s 3ms/step - loss: 0.3556 - accuracy: 0.8573\n",
      "Epoch 13/100\n",
      "1020/1020 [==============================] - 3s 2ms/step - loss: 0.3520 - accuracy: 0.8580\n",
      "Epoch 14/100\n",
      "1020/1020 [==============================] - 2s 2ms/step - loss: 0.3506 - accuracy: 0.8587\n",
      "Epoch 15/100\n",
      "1020/1020 [==============================] - 3s 3ms/step - loss: 0.3493 - accuracy: 0.8583\n",
      "Epoch 16/100\n",
      "1020/1020 [==============================] - 2s 2ms/step - loss: 0.3469 - accuracy: 0.8593\n",
      "Epoch 17/100\n",
      "1020/1020 [==============================] - 2s 2ms/step - loss: 0.3462 - accuracy: 0.8592\n",
      "Epoch 18/100\n",
      "1020/1020 [==============================] - 3s 3ms/step - loss: 0.3455 - accuracy: 0.8600\n",
      "Epoch 19/100\n",
      "1020/1020 [==============================] - 3s 3ms/step - loss: 0.3436 - accuracy: 0.8606\n",
      "Epoch 20/100\n",
      "1020/1020 [==============================] - 3s 3ms/step - loss: 0.3428 - accuracy: 0.8608\n",
      "Epoch 21/100\n",
      "1020/1020 [==============================] - 2s 2ms/step - loss: 0.3430 - accuracy: 0.8602\n",
      "Epoch 22/100\n",
      "1020/1020 [==============================] - 2s 2ms/step - loss: 0.3428 - accuracy: 0.8609\n",
      "Epoch 23/100\n",
      "1020/1020 [==============================] - 2s 2ms/step - loss: 0.3415 - accuracy: 0.8615\n",
      "Epoch 24/100\n",
      "1020/1020 [==============================] - 3s 3ms/step - loss: 0.3409 - accuracy: 0.8613\n",
      "Epoch 25/100\n",
      "1020/1020 [==============================] - 2s 2ms/step - loss: 0.3409 - accuracy: 0.8615\n",
      "Epoch 26/100\n",
      "1020/1020 [==============================] - 2s 2ms/step - loss: 0.3401 - accuracy: 0.8614\n",
      "Epoch 27/100\n",
      "1020/1020 [==============================] - 3s 2ms/step - loss: 0.3397 - accuracy: 0.8618\n",
      "Epoch 28/100\n",
      "1020/1020 [==============================] - 3s 3ms/step - loss: 0.3395 - accuracy: 0.8617\n",
      "Epoch 29/100\n",
      "1020/1020 [==============================] - 2s 2ms/step - loss: 0.3391 - accuracy: 0.8620\n",
      "Epoch 30/100\n",
      "1020/1020 [==============================] - 2s 2ms/step - loss: 0.3386 - accuracy: 0.8619\n",
      "Epoch 31/100\n",
      "1020/1020 [==============================] - 3s 3ms/step - loss: 0.3384 - accuracy: 0.8618\n",
      "Epoch 32/100\n",
      "1020/1020 [==============================] - 3s 3ms/step - loss: 0.3393 - accuracy: 0.8615\n",
      "Epoch 33/100\n",
      "1020/1020 [==============================] - 2s 2ms/step - loss: 0.3381 - accuracy: 0.8618\n",
      "Epoch 34/100\n",
      "1020/1020 [==============================] - 2s 2ms/step - loss: 0.3377 - accuracy: 0.8623\n",
      "Epoch 35/100\n",
      "1020/1020 [==============================] - 2s 2ms/step - loss: 0.3373 - accuracy: 0.8623\n",
      "Epoch 36/100\n",
      "1020/1020 [==============================] - 3s 3ms/step - loss: 0.3369 - accuracy: 0.8622\n",
      "Epoch 37/100\n",
      "1020/1020 [==============================] - 3s 3ms/step - loss: 0.3376 - accuracy: 0.8617\n",
      "Epoch 38/100\n",
      "1020/1020 [==============================] - 3s 3ms/step - loss: 0.3365 - accuracy: 0.8623\n",
      "Epoch 39/100\n",
      "1020/1020 [==============================] - 3s 2ms/step - loss: 0.3369 - accuracy: 0.8620\n",
      "Epoch 40/100\n",
      "1020/1020 [==============================] - 3s 2ms/step - loss: 0.3369 - accuracy: 0.8618\n",
      "Epoch 41/100\n",
      "1020/1020 [==============================] - 2s 2ms/step - loss: 0.3360 - accuracy: 0.8628\n",
      "Epoch 42/100\n",
      "1020/1020 [==============================] - 2s 2ms/step - loss: 0.3365 - accuracy: 0.8628\n",
      "Epoch 43/100\n",
      "1020/1020 [==============================] - 2s 2ms/step - loss: 0.3361 - accuracy: 0.8626\n",
      "Epoch 44/100\n",
      "1020/1020 [==============================] - 2s 2ms/step - loss: 0.3358 - accuracy: 0.8624\n",
      "Epoch 45/100\n",
      "1020/1020 [==============================] - 2s 2ms/step - loss: 0.3358 - accuracy: 0.8625\n",
      "Epoch 46/100\n",
      "1020/1020 [==============================] - 2s 2ms/step - loss: 0.3353 - accuracy: 0.8624\n",
      "Epoch 47/100\n",
      "1020/1020 [==============================] - 2s 2ms/step - loss: 0.3352 - accuracy: 0.8627\n",
      "Epoch 48/100\n",
      "1020/1020 [==============================] - 2s 2ms/step - loss: 0.3353 - accuracy: 0.8628\n",
      "Epoch 49/100\n",
      "1020/1020 [==============================] - 2s 2ms/step - loss: 0.3351 - accuracy: 0.8628\n",
      "Epoch 50/100\n",
      "1020/1020 [==============================] - 2s 2ms/step - loss: 0.3348 - accuracy: 0.8630\n",
      "Epoch 51/100\n",
      "1020/1020 [==============================] - 2s 2ms/step - loss: 0.3347 - accuracy: 0.8630\n",
      "Epoch 52/100\n",
      "1020/1020 [==============================] - 3s 3ms/step - loss: 0.3348 - accuracy: 0.8630\n",
      "Epoch 53/100\n",
      "1020/1020 [==============================] - 3s 3ms/step - loss: 0.3344 - accuracy: 0.8629\n",
      "Epoch 54/100\n",
      "1020/1020 [==============================] - 3s 3ms/step - loss: 0.3340 - accuracy: 0.8630\n",
      "Epoch 55/100\n",
      "1020/1020 [==============================] - 3s 3ms/step - loss: 0.3343 - accuracy: 0.8630\n",
      "Epoch 56/100\n",
      "1020/1020 [==============================] - 3s 3ms/step - loss: 0.3339 - accuracy: 0.8629\n",
      "Epoch 57/100\n",
      "1020/1020 [==============================] - 3s 3ms/step - loss: 0.3331 - accuracy: 0.8630\n",
      "Epoch 58/100\n",
      "1020/1020 [==============================] - 3s 3ms/step - loss: 0.3327 - accuracy: 0.8631\n",
      "Epoch 59/100\n",
      "1020/1020 [==============================] - 3s 3ms/step - loss: 0.3334 - accuracy: 0.8628\n",
      "Epoch 60/100\n",
      "1020/1020 [==============================] - 3s 3ms/step - loss: 0.3327 - accuracy: 0.8632\n",
      "Epoch 61/100\n",
      "1020/1020 [==============================] - 3s 3ms/step - loss: 0.3327 - accuracy: 0.8631\n",
      "Epoch 62/100\n",
      "1020/1020 [==============================] - 3s 3ms/step - loss: 0.3328 - accuracy: 0.8633\n",
      "Epoch 63/100\n",
      "1020/1020 [==============================] - 3s 2ms/step - loss: 0.3319 - accuracy: 0.8632\n",
      "Epoch 64/100\n",
      "1020/1020 [==============================] - 3s 2ms/step - loss: 0.3316 - accuracy: 0.8637\n",
      "Epoch 65/100\n",
      "1020/1020 [==============================] - 3s 3ms/step - loss: 0.3319 - accuracy: 0.8632\n",
      "Epoch 66/100\n",
      "1020/1020 [==============================] - 2s 2ms/step - loss: 0.3325 - accuracy: 0.8625\n",
      "Epoch 67/100\n",
      "1020/1020 [==============================] - 2s 2ms/step - loss: 0.3314 - accuracy: 0.8635\n",
      "Epoch 68/100\n",
      "1020/1020 [==============================] - 2s 2ms/step - loss: 0.3314 - accuracy: 0.8638\n",
      "Epoch 69/100\n",
      "1020/1020 [==============================] - 2s 2ms/step - loss: 0.3323 - accuracy: 0.8629\n",
      "Epoch 70/100\n",
      "1020/1020 [==============================] - 2s 2ms/step - loss: 0.3318 - accuracy: 0.8634\n",
      "Epoch 71/100\n",
      "1020/1020 [==============================] - 2s 2ms/step - loss: 0.3313 - accuracy: 0.8633\n",
      "Epoch 72/100\n",
      "1020/1020 [==============================] - 2s 2ms/step - loss: 0.3316 - accuracy: 0.8631\n",
      "Epoch 73/100\n",
      "1020/1020 [==============================] - 3s 3ms/step - loss: 0.3309 - accuracy: 0.8635\n",
      "Epoch 74/100\n",
      "1020/1020 [==============================] - 3s 3ms/step - loss: 0.3309 - accuracy: 0.8635\n",
      "Epoch 75/100\n",
      "1020/1020 [==============================] - 3s 3ms/step - loss: 0.3315 - accuracy: 0.8631\n",
      "Epoch 76/100\n",
      "1020/1020 [==============================] - 3s 2ms/step - loss: 0.3308 - accuracy: 0.8633\n",
      "Epoch 77/100\n",
      "1020/1020 [==============================] - 3s 3ms/step - loss: 0.3303 - accuracy: 0.8633\n",
      "Epoch 78/100\n",
      "1020/1020 [==============================] - 3s 3ms/step - loss: 0.3309 - accuracy: 0.8634\n",
      "Epoch 79/100\n",
      "1020/1020 [==============================] - 3s 3ms/step - loss: 0.3312 - accuracy: 0.8635\n",
      "Epoch 80/100\n",
      "1020/1020 [==============================] - 3s 3ms/step - loss: 0.3315 - accuracy: 0.8631\n",
      "Epoch 81/100\n",
      "1020/1020 [==============================] - 3s 2ms/step - loss: 0.3308 - accuracy: 0.8634\n",
      "Epoch 82/100\n",
      "1020/1020 [==============================] - 3s 3ms/step - loss: 0.3319 - accuracy: 0.8630\n",
      "Epoch 83/100\n",
      "1020/1020 [==============================] - 3s 3ms/step - loss: 0.3302 - accuracy: 0.8637\n",
      "Epoch 84/100\n",
      "1020/1020 [==============================] - 3s 3ms/step - loss: 0.3302 - accuracy: 0.8637\n",
      "Epoch 85/100\n",
      "1020/1020 [==============================] - 2s 2ms/step - loss: 0.3299 - accuracy: 0.8640\n",
      "Epoch 86/100\n",
      "1020/1020 [==============================] - 2s 2ms/step - loss: 0.3297 - accuracy: 0.8637\n",
      "Epoch 87/100\n",
      "1020/1020 [==============================] - 2s 2ms/step - loss: 0.3296 - accuracy: 0.8638\n",
      "Epoch 88/100\n",
      "1020/1020 [==============================] - 2s 2ms/step - loss: 0.3292 - accuracy: 0.8638\n",
      "Epoch 89/100\n",
      "1020/1020 [==============================] - 2s 2ms/step - loss: 0.3308 - accuracy: 0.8632\n",
      "Epoch 90/100\n",
      "1020/1020 [==============================] - 2s 2ms/step - loss: 0.3295 - accuracy: 0.8636\n",
      "Epoch 91/100\n",
      "1020/1020 [==============================] - 2s 2ms/step - loss: 0.3294 - accuracy: 0.8637\n",
      "Epoch 92/100\n",
      "1020/1020 [==============================] - 2s 2ms/step - loss: 0.3292 - accuracy: 0.8638\n",
      "Epoch 93/100\n",
      "1020/1020 [==============================] - 2s 2ms/step - loss: 0.3290 - accuracy: 0.8638\n",
      "Epoch 94/100\n",
      "1020/1020 [==============================] - 2s 2ms/step - loss: 0.3294 - accuracy: 0.8637\n",
      "Epoch 95/100\n",
      "1020/1020 [==============================] - 2s 2ms/step - loss: 0.3286 - accuracy: 0.8641\n",
      "Epoch 96/100\n",
      "1020/1020 [==============================] - 2s 2ms/step - loss: 0.3290 - accuracy: 0.8639\n",
      "Epoch 97/100\n",
      "1020/1020 [==============================] - 3s 3ms/step - loss: 0.3286 - accuracy: 0.8643\n",
      "Epoch 98/100\n",
      "1020/1020 [==============================] - 3s 3ms/step - loss: 0.3283 - accuracy: 0.8641\n",
      "Epoch 99/100\n",
      "1020/1020 [==============================] - 3s 3ms/step - loss: 0.3287 - accuracy: 0.8637\n",
      "Epoch 100/100\n",
      "1020/1020 [==============================] - 3s 3ms/step - loss: 0.3296 - accuracy: 0.8639\n"
     ]
    }
   ],
   "source": [
    "# 모델 생성\n",
    "model = Sequential()\n",
    "model.add(Dense(64, input_dim=8, activation='relu'))\n",
    "model.add(Dense(128, activation='relu'))\n",
    "# 마지막 레이어는 예측결과(sigmoid -> 0~1확률)\n",
    "model.add(Dense(1, activation='sigmoid')) \n",
    "\n",
    "# 모델 컴파일\n",
    "model.compile(optimizer='adam',\n",
    "              loss='binary_crossentropy',\n",
    "              metrics=['accuracy'])\n",
    "\n",
    "# 모델 실행\n",
    "history = model.fit(X, Y, epochs=100, batch_size=128)"
   ]
  },
  {
   "cell_type": "code",
   "execution_count": 13,
   "metadata": {},
   "outputs": [
    {
     "name": "stdout",
     "output_type": "stream",
     "text": [
      "[[200, 201, 1]]\n",
      "[[200 201   1   1   1   1 300   1]]\n",
      "[[200, 201, 1, 1, 1, 1, 300, 1]]\n"
     ]
    }
   ],
   "source": [
    "# 문자열을 토큰화\n",
    "input_text = ['KAIST', '전학부', '종합', 1, 1, 1, 300, 1]\n",
    "input_sequence = tokenizer.texts_to_sequences([input_text[0:3]])\n",
    "print(input_sequence)\n",
    "input = np.concatenate((input_sequence, [input_text[3:]]), axis=1, )\n",
    "print(input)\n",
    "input_data = input.tolist()\n",
    "print(input_data)"
   ]
  },
  {
   "cell_type": "code",
   "execution_count": 16,
   "metadata": {},
   "outputs": [
    {
     "name": "stdout",
     "output_type": "stream",
     "text": [
      "1/1 [==============================] - 0s 155ms/step\n",
      "[[0.7662509]]\n"
     ]
    }
   ],
   "source": [
    "# 예측\n",
    "predict = model.predict(input_data)\n",
    "print(predict)"
   ]
  },
  {
   "cell_type": "markdown",
   "metadata": {},
   "source": [
    "## 모델 저장하기"
   ]
  },
  {
   "cell_type": "code",
   "execution_count": 35,
   "metadata": {},
   "outputs": [
    {
     "name": "stderr",
     "output_type": "stream",
     "text": [
      "C:\\Users\\강민지\\AppData\\Local\\Programs\\Python\\Python311\\Lib\\site-packages\\keras\\src\\engine\\training.py:3103: UserWarning: You are saving your model as an HDF5 file via `model.save()`. This file format is considered legacy. We recommend using instead the native Keras format, e.g. `model.save('my_model.keras')`.\n",
      "  saving_api.save_model(\n"
     ]
    },
    {
     "data": {
      "text/plain": [
       "<keras.src.callbacks.History at 0x2194d600190>"
      ]
     },
     "execution_count": 35,
     "metadata": {},
     "output_type": "execute_result"
    }
   ],
   "source": [
    "# 모델 생성\n",
    "model = Sequential()\n",
    "model.add(Dense(64, activation='relu'))\n",
    "model.add(Dense(128, activation='relu')) \n",
    "# 마지막 레이어는 예측결과(sigmoid -> 0~1확률)\n",
    "model.add(Dense(1, activation='sigmoid')) \n",
    "\n",
    "# 모델 컴파일\n",
    "model.compile(optimizer='adam',\n",
    "              loss='binary_crossentropy',\n",
    "              metrics=['accuracy'])\n",
    "\n",
    "# 모델 저장 폴더 만들기\n",
    "MODEL_DIR = './model/'\n",
    "if not os.path.exists(MODEL_DIR):\n",
    "    os.mkdir(MODEL_DIR)\n",
    "    \n",
    "modelpath = \"./model/university_best_model.h5\"\n",
    "\n",
    "# 모델 업데이트 및 저장(앞에 모델보다 나아졌을때만 저장)\n",
    "checkpointer = ModelCheckpoint(filepath=modelpath, moniter='loss', verbos=1, save_best_only=True)\n",
    "\n",
    "# 학습 자동 중단 설정(학습을 계속해도 정확도에 진전이 없다면 stop)\n",
    "early_stopping_callback = EarlyStopping(monitor='loss', patience=100)\n",
    "\n",
    "# 모델 실행\n",
    "model.fit(np.array(X), np.array(Y), epochs=1000, batch_size=128, validation_data=(np.array(X), np.array(Y)), verbose=0, callbacks=[early_stopping_callback, checkpointer])"
   ]
  },
  {
   "cell_type": "code",
   "execution_count": null,
   "metadata": {},
   "outputs": [],
   "source": []
  }
 ],
 "metadata": {
  "kernelspec": {
   "display_name": "Python 3 (ipykernel)",
   "language": "python",
   "name": "python3"
  },
  "language_info": {
   "codemirror_mode": {
    "name": "ipython",
    "version": 3
   },
   "file_extension": ".py",
   "mimetype": "text/x-python",
   "name": "python",
   "nbconvert_exporter": "python",
   "pygments_lexer": "ipython3",
   "version": "3.11.6"
  }
 },
 "nbformat": 4,
 "nbformat_minor": 4
}
